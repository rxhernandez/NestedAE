{
 "cells": [
  {
   "cell_type": "markdown",
   "id": "fb2f248a",
   "metadata": {},
   "source": [
    "Vizualize dataset entries using pandas"
   ]
  },
  {
   "cell_type": "code",
   "execution_count": 1,
   "id": "0bee84d3",
   "metadata": {},
   "outputs": [],
   "source": [
    "import pandas as pd\n",
    "from pandas.plotting import scatter_matrix\n",
    "import numpy as np\n",
    "import matplotlib.pyplot as plt\n",
    "\n",
    "import os\n",
    "os.chdir('../')\n",
    "from utils.custom_utils import read_from_pickle, save_to_pickle, create_nn\n",
    "from utils.nn_utils import read_params_dict\n",
    "\n",
    "import tensorflow as tf\n",
    "from tensorflow.keras import Input, Model\n",
    "#import visualkeras"
   ]
  },
  {
   "cell_type": "code",
   "execution_count": null,
   "id": "dbea453c",
   "metadata": {},
   "outputs": [],
   "source": [
    "y_true = [[0., 1.], [0., 0.]]\n",
    "y_pred = [[1., 1.], [1., 0.]]\n",
    "mae1 = tf.keras.metrics.MeanAbsoluteError()\n",
    "mae1(y_true, y_pred).numpy()\n",
    "cce = tf.keras.losses.CategoricalCrossentropy()\n",
    "cce([[0, 0, 1, 0, 0, 0, 0, 0, 0]],[[0.15633722, 0.16339155, 0.06077524, 0.09687944 ,0.08304486, 0.11416299,\n",
    "  0.10649569, 0.13413449, 0.08477855]]).numpy()"
   ]
  },
  {
   "cell_type": "code",
   "execution_count": null,
   "id": "7ed3d28d",
   "metadata": {},
   "outputs": [],
   "source": [
    "mae2 = tf.keras.metrics.MeanAbsoluteError()\n",
    "mae2(y_true, y_pred, sample_weight=[2, 1]).numpy()"
   ]
  },
  {
   "cell_type": "code",
   "execution_count": 8,
   "id": "336024e4",
   "metadata": {},
   "outputs": [],
   "source": [
    "dataset_dir = '../datasets/carbondots/carbondots.xlsx'\n",
    "sheet_name = 'Train_test1_test2'\n",
    "#dataset_dir = '../datasets/carbondots/carbondots_sheet1.csv'\n",
    "#dataset_dir_csv = '../datasets/carbondots/carbondots_sheet1.csv'"
   ]
  },
  {
   "cell_type": "code",
   "execution_count": 9,
   "id": "fc1397d8",
   "metadata": {},
   "outputs": [
    {
     "name": "stdout",
     "output_type": "stream",
     "text": [
      "xlsx\n",
      " --> Dataset columns Index(['Color', 'citric acid', 'urea', ' ethylenediamine', 'HCl', 'ammonium',\n",
      "       'NaOH', 'boric acid ', 'sodium thiosulfate', 'KOH', 'formic acid ',\n",
      "       'Reaction method', 'Solvent', 'pH', 'Reaction temperatrue( C )',\n",
      "       'reaction time (min)', 'purification method', 'particle size (TEM)',\n",
      "       'Lattice obrserved or not', 'absorption', 'Main Peak (in water)'],\n",
      "      dtype='object')\n",
      "float64    15\n",
      "object      6\n",
      "dtype: int64\n"
     ]
    },
    {
     "name": "stderr",
     "output_type": "stream",
     "text": [
      "/var/folders/k2/lw7ggcln7zx_cnkbk2zbgvm80000gn/T/ipykernel_6464/2135218424.py:6: FutureWarning: Defining usecols with out of bounds indices is deprecated and will raise a ParserError in a future version.\n",
      "  dataset_dataframe = pd.read_excel(dataset_dir, sheet_name=sheet_name, header=0, index_col=None, usecols=np.arange(2,41,1))\n"
     ]
    },
    {
     "data": {
      "text/html": [
       "<div>\n",
       "<style scoped>\n",
       "    .dataframe tbody tr th:only-of-type {\n",
       "        vertical-align: middle;\n",
       "    }\n",
       "\n",
       "    .dataframe tbody tr th {\n",
       "        vertical-align: top;\n",
       "    }\n",
       "\n",
       "    .dataframe thead th {\n",
       "        text-align: right;\n",
       "    }\n",
       "</style>\n",
       "<table border=\"1\" class=\"dataframe\">\n",
       "  <thead>\n",
       "    <tr style=\"text-align: right;\">\n",
       "      <th></th>\n",
       "      <th>Color</th>\n",
       "      <th>citric acid</th>\n",
       "      <th>urea</th>\n",
       "      <th>ethylenediamine</th>\n",
       "      <th>HCl</th>\n",
       "      <th>ammonium</th>\n",
       "      <th>NaOH</th>\n",
       "      <th>boric acid</th>\n",
       "      <th>sodium thiosulfate</th>\n",
       "      <th>KOH</th>\n",
       "      <th>...</th>\n",
       "      <th>Reaction method</th>\n",
       "      <th>Solvent</th>\n",
       "      <th>pH</th>\n",
       "      <th>Reaction temperatrue( C )</th>\n",
       "      <th>reaction time (min)</th>\n",
       "      <th>purification method</th>\n",
       "      <th>particle size (TEM)</th>\n",
       "      <th>Lattice obrserved or not</th>\n",
       "      <th>absorption</th>\n",
       "      <th>Main Peak (in water)</th>\n",
       "    </tr>\n",
       "  </thead>\n",
       "  <tbody>\n",
       "    <tr>\n",
       "      <th>0</th>\n",
       "      <td>blue</td>\n",
       "      <td>1.0000</td>\n",
       "      <td>0.0</td>\n",
       "      <td>0.0</td>\n",
       "      <td>0.000</td>\n",
       "      <td>0.0</td>\n",
       "      <td>0.0</td>\n",
       "      <td>0.0</td>\n",
       "      <td>0.0</td>\n",
       "      <td>0.0</td>\n",
       "      <td>...</td>\n",
       "      <td>solvothermal treatment</td>\n",
       "      <td>ethanol, formamide</td>\n",
       "      <td>acidic</td>\n",
       "      <td>423.15</td>\n",
       "      <td>300.0</td>\n",
       "      <td>centrifuge</td>\n",
       "      <td>4.50</td>\n",
       "      <td>Y</td>\n",
       "      <td>435.0</td>\n",
       "      <td>450.0</td>\n",
       "    </tr>\n",
       "    <tr>\n",
       "      <th>1</th>\n",
       "      <td>blue</td>\n",
       "      <td>0.1560</td>\n",
       "      <td>1.0</td>\n",
       "      <td>0.0</td>\n",
       "      <td>0.003</td>\n",
       "      <td>0.0</td>\n",
       "      <td>0.0</td>\n",
       "      <td>0.0</td>\n",
       "      <td>0.0</td>\n",
       "      <td>0.0</td>\n",
       "      <td>...</td>\n",
       "      <td>hydrothermal treatment</td>\n",
       "      <td>water</td>\n",
       "      <td>acidic</td>\n",
       "      <td>433.15</td>\n",
       "      <td>240.0</td>\n",
       "      <td>centrifuge</td>\n",
       "      <td>2.81</td>\n",
       "      <td>Y</td>\n",
       "      <td>493.0</td>\n",
       "      <td>445.0</td>\n",
       "    </tr>\n",
       "    <tr>\n",
       "      <th>2</th>\n",
       "      <td>blue</td>\n",
       "      <td>1.0000</td>\n",
       "      <td>0.0</td>\n",
       "      <td>0.0</td>\n",
       "      <td>0.000</td>\n",
       "      <td>0.0</td>\n",
       "      <td>0.0</td>\n",
       "      <td>0.0</td>\n",
       "      <td>0.0</td>\n",
       "      <td>0.0</td>\n",
       "      <td>...</td>\n",
       "      <td>solvothermal treatment</td>\n",
       "      <td>ethanol</td>\n",
       "      <td>acidic</td>\n",
       "      <td>473.15</td>\n",
       "      <td>420.0</td>\n",
       "      <td>filter, dialysis</td>\n",
       "      <td>4.00</td>\n",
       "      <td>N</td>\n",
       "      <td>370.0</td>\n",
       "      <td>440.0</td>\n",
       "    </tr>\n",
       "    <tr>\n",
       "      <th>3</th>\n",
       "      <td>blue</td>\n",
       "      <td>0.0825</td>\n",
       "      <td>0.0</td>\n",
       "      <td>0.0</td>\n",
       "      <td>0.000</td>\n",
       "      <td>1.0</td>\n",
       "      <td>0.0</td>\n",
       "      <td>0.0</td>\n",
       "      <td>0.0</td>\n",
       "      <td>0.0</td>\n",
       "      <td>...</td>\n",
       "      <td>microwave</td>\n",
       "      <td>water</td>\n",
       "      <td>neutral</td>\n",
       "      <td>473.15</td>\n",
       "      <td>7.0</td>\n",
       "      <td>centrifuge</td>\n",
       "      <td>1.80</td>\n",
       "      <td>Y</td>\n",
       "      <td>285.0</td>\n",
       "      <td>450.0</td>\n",
       "    </tr>\n",
       "    <tr>\n",
       "      <th>4</th>\n",
       "      <td>blue</td>\n",
       "      <td>1.0000</td>\n",
       "      <td>0.0</td>\n",
       "      <td>0.0</td>\n",
       "      <td>0.000</td>\n",
       "      <td>0.0</td>\n",
       "      <td>0.0</td>\n",
       "      <td>0.0</td>\n",
       "      <td>0.0</td>\n",
       "      <td>0.0</td>\n",
       "      <td>...</td>\n",
       "      <td>hydrothermal treatment</td>\n",
       "      <td>water</td>\n",
       "      <td>acidic</td>\n",
       "      <td>433.15</td>\n",
       "      <td>360.0</td>\n",
       "      <td>dialysis</td>\n",
       "      <td>1.62</td>\n",
       "      <td>N</td>\n",
       "      <td>245.0</td>\n",
       "      <td>415.0</td>\n",
       "    </tr>\n",
       "  </tbody>\n",
       "</table>\n",
       "<p>5 rows × 21 columns</p>\n",
       "</div>"
      ],
      "text/plain": [
       "  Color  citric acid  urea   ethylenediamine    HCl  ammonium  NaOH  \\\n",
       "0  blue       1.0000   0.0               0.0  0.000       0.0   0.0   \n",
       "1  blue       0.1560   1.0               0.0  0.003       0.0   0.0   \n",
       "2  blue       1.0000   0.0               0.0  0.000       0.0   0.0   \n",
       "3  blue       0.0825   0.0               0.0  0.000       1.0   0.0   \n",
       "4  blue       1.0000   0.0               0.0  0.000       0.0   0.0   \n",
       "\n",
       "   boric acid   sodium thiosulfate  KOH  ...         Reaction method  \\\n",
       "0          0.0                 0.0  0.0  ...  solvothermal treatment   \n",
       "1          0.0                 0.0  0.0  ...  hydrothermal treatment   \n",
       "2          0.0                 0.0  0.0  ...  solvothermal treatment   \n",
       "3          0.0                 0.0  0.0  ...               microwave   \n",
       "4          0.0                 0.0  0.0  ...  hydrothermal treatment   \n",
       "\n",
       "              Solvent       pH Reaction temperatrue( C )  reaction time (min)  \\\n",
       "0  ethanol, formamide   acidic                    423.15                300.0   \n",
       "1               water   acidic                    433.15                240.0   \n",
       "2             ethanol   acidic                    473.15                420.0   \n",
       "3               water  neutral                    473.15                  7.0   \n",
       "4               water   acidic                    433.15                360.0   \n",
       "\n",
       "   purification method particle size (TEM)  Lattice obrserved or not  \\\n",
       "0           centrifuge                4.50                         Y   \n",
       "1           centrifuge                2.81                         Y   \n",
       "2     filter, dialysis                4.00                         N   \n",
       "3           centrifuge                1.80                         Y   \n",
       "4             dialysis                1.62                         N   \n",
       "\n",
       "  absorption  Main Peak (in water)  \n",
       "0      435.0                 450.0  \n",
       "1      493.0                 445.0  \n",
       "2      370.0                 440.0  \n",
       "3      285.0                 450.0  \n",
       "4      245.0                 415.0  \n",
       "\n",
       "[5 rows x 21 columns]"
      ]
     },
     "execution_count": 9,
     "metadata": {},
     "output_type": "execute_result"
    }
   ],
   "source": [
    "dataset_type = dataset_dir.split('.')[3]\n",
    "print(dataset_type)\n",
    "\n",
    "if dataset_type == 'xlsx':\n",
    "    try:\n",
    "        dataset_dataframe = pd.read_excel(dataset_dir, sheet_name=sheet_name, header=0, index_col=None, usecols=np.arange(2,41,1))\n",
    "    except:\n",
    "        raise Exception('Need to specifiy sheet name')\n",
    "elif dataset_type == 'csv':\n",
    "    dataset_dataframe = pd.read_csv(dataset_dir, header=1)\n",
    "else:\n",
    "    raise Exception('Can only read .xlsx and .csv files')\n",
    "    \n",
    "print(f' --> Dataset columns {dataset_dataframe.columns}')\n",
    "print(dataset_dataframe.dtypes.value_counts())\n",
    "dataset_dataframe.head()"
   ]
  },
  {
   "cell_type": "code",
   "execution_count": 10,
   "id": "6ade95de",
   "metadata": {},
   "outputs": [
    {
     "name": "stdout",
     "output_type": "stream",
     "text": [
      " --> Numerical features ['citric acid', 'urea', ' ethylenediamine', 'HCl', 'ammonium', 'NaOH', 'boric acid ', 'sodium thiosulfate', 'KOH', 'formic acid ', 'Reaction temperatrue( C )', 'reaction time (min)', 'particle size (TEM)', 'absorption', 'Main Peak (in water)']\n",
      " --> Categorical features ['Color', 'Lattice obrserved or not', 'Reaction method', 'pH', 'purification method', 'Solvent']\n"
     ]
    }
   ],
   "source": [
    "num_features = list(dataset_dataframe._get_numeric_data().columns)\n",
    "print(f' --> Numerical features {num_features}')\n",
    "cat_features = list(set(dataset_dataframe.columns) - set(dataset_dataframe._get_numeric_data().columns))\n",
    "print(f' --> Categorical features {cat_features}')"
   ]
  },
  {
   "cell_type": "code",
   "execution_count": 11,
   "id": "50b19f25",
   "metadata": {},
   "outputs": [
    {
     "name": "stdout",
     "output_type": "stream",
     "text": [
      "<class 'numpy.ndarray'>\n"
     ]
    }
   ],
   "source": [
    "print(type(dataset_dataframe.iloc[:,3].values.astype(np.float32)))"
   ]
  },
  {
   "cell_type": "code",
   "execution_count": 12,
   "id": "97c3af25",
   "metadata": {
    "scrolled": false
   },
   "outputs": [
    {
     "name": "stdout",
     "output_type": "stream",
     "text": [
      "[376  37  10]\n",
      "['neutral', 'acidic', 'basic']\n"
     ]
    }
   ],
   "source": [
    "# Scatter plot for numerical data\n",
    "'''\n",
    "dataset_dataframe.plot(x='Particle Diameter Dimension 3 (nm)', \n",
    "                       y='Viability Fraction', \n",
    "                       kind='scatter',\n",
    "                       s=2,\n",
    "                       c='k''\n",
    "'''\n",
    "from pandas.api.types import is_numeric_dtype, is_object_dtype, is_string_dtype\n",
    "selected_features_to_plot = ['pH']\n",
    "data_to_plot = dataset_dataframe[selected_features_to_plot].values[0:-17]\n",
    "\n",
    "#print(data_to_plot)\n",
    "\n",
    "if is_string_dtype(data_to_plot):\n",
    "    unique_vals = dataset_dataframe[selected_features_to_plot].value_counts()\n",
    "    counts = unique_vals.values\n",
    "    print(counts)\n",
    "    classes = [cl[0] for cl in unique_vals.index.values.tolist()]\n",
    "    print(classes)\n",
    "\n",
    "# diagonal can be hist or kde\n",
    "# scatter_matrix(data_to_plot, figsize=(20, 20), diagonal=\"hist\")\n",
    "if is_numeric_dtype(data_to_plot):\n",
    "    numbins = 10\n",
    "    minvalue = np.min(data_to_plot)\n",
    "    maxvalue = np.max(data_to_plot)\n",
    "    bins = np.arange(minvalue, maxvalue, (maxvalue - minvalue)/numbins)\n",
    "    bins = np.append(bins, maxvalue)\n",
    "    data = plt.hist(data_to_plot, bins=bins)    \n",
    "    print(data[1])\n",
    "    print(data[0])"
   ]
  },
  {
   "cell_type": "code",
   "execution_count": null,
   "id": "bf3918ff",
   "metadata": {
    "scrolled": false
   },
   "outputs": [],
   "source": [
    "#sample_weights = [1/count if count !=0 else 0 for count in counts]\n",
    "#print(sample_weights)\n",
    "#print(len(sample_weights))\n",
    "#print(len(bins))\n",
    "print(bins)\n",
    "print(counts)\n",
    "\n",
    "sample_weights = []\n",
    "for sample in data_to_plot.values:\n",
    "    for i,hist_bin in enumerate(bins):\n",
    "        lower_val = hist_bin[0]\n",
    "        upper_val = hist_bin[1]\n",
    "        \n",
    "        if ((sample - lower_val) and (upper_val - sample)) >= 0:\n",
    "            sample_weights.append(1/counts[i])\n",
    "            break\n",
    "\n",
    "sample_weights = np.array(sample_weights)\n",
    "sample_values = np.squeeze(np.array(data_to_plot.values))\n",
    "print(sample_weights.shape)\n",
    "print(sample_values.shape)\n",
    "sample_weights_combined = np.vstack((sample_values[0:-1], sample_weights))\n",
    "print(sample_weights_combined)\n",
    "#new_dataframe = data_to_plot.assign(sample_weights=1)\n",
    "#print(new_dataframe)"
   ]
  },
  {
   "cell_type": "code",
   "execution_count": null,
   "id": "93de6382",
   "metadata": {},
   "outputs": [],
   "source": [
    "dataset_dataframe.loc[dataset_dataframe['absorption'].between(250, 500), 'sample_weights'] = 2\n",
    "print(len(dataset_dataframe['absorption']))"
   ]
  },
  {
   "cell_type": "code",
   "execution_count": null,
   "id": "cba6dfe3",
   "metadata": {},
   "outputs": [],
   "source": [
    "print(dataset_dataframe['sample_weights'].value_counts())"
   ]
  },
  {
   "cell_type": "code",
   "execution_count": null,
   "id": "70db6ab1",
   "metadata": {},
   "outputs": [],
   "source": [
    "sample_dict = {'A':'A',\n",
    "               'B':'B',\n",
    "               'drop_samples':{'range':['banana', [20, 30]]}\n",
    "              }\n",
    "\n",
    "if sample_dict['drop_samples']:\n",
    "    if 'frequency' in sample_dict['drop_samples'].keys():\n",
    "        print('true')\n",
    "    else:\n",
    "        print('false')"
   ]
  },
  {
   "cell_type": "code",
   "execution_count": null,
   "id": "167731be",
   "metadata": {},
   "outputs": [],
   "source": [
    "# Bar chart showing counts for each categorical feature\n",
    "index = 0\n",
    "color = 'b'\n",
    "col_data = dataset_dataframe[cat_features[index]].value_counts()\n",
    "ax = col_data.plot.bar(figsize=(10,10), color=color)\n",
    "\n",
    "for rect in ax.patches:\n",
    "    y_value = rect.get_height()\n",
    "    x_value = rect.get_x() + rect.get_width() / 2\n",
    "    space = 1\n",
    "    label = \"{:.0f}\".format(y_value)\n",
    "    ax.annotate(label, (x_value, y_value), xytext=(0, space), textcoords=\"offset points\", ha='center', va='bottom', fontsize=15)\n",
    "ax.set_xlabel(cat_features[index], fontsize=15)\n",
    "ax.set_ylabel('Counts', fontsize=15)\n",
    "plt.show()"
   ]
  },
  {
   "cell_type": "code",
   "execution_count": null,
   "id": "cc9eff9a",
   "metadata": {},
   "outputs": [],
   "source": [
    "run_dir = '../runs/single_ae_test'\n",
    "nn_index = 0\n",
    "\n",
    "nn_save_dir, nn_params_dict, nn_train_params_dict, nn_compile_params_dict, nn_dataset_dict, X_descr, X_preprocessors, y_descr, y_preprocessors = read_params_dict(run_dir, nn_index)\n",
    "\n",
    "nn = create_nn(nn_save_dir, nn_params_dict, nn_train_params_dict, nn_compile_params_dict, X_descr, y_descr)"
   ]
  },
  {
   "cell_type": "code",
   "execution_count": null,
   "id": "cf652aa7",
   "metadata": {},
   "outputs": [],
   "source": [
    "X_dtype_list = X_descr[0]\n",
    "X_dim_list = X_descr[1]\n",
    "\n",
    "X = []\n",
    "for dim in X_dim_list:\n",
    "    X.append(tf.keras.Input(shape=(1, dim)))\n",
    "#tf.keras.utils.plot_model(Model(inputs=X, outputs=nn.call(X)),\n",
    "#                          to_file=nn_save_dir + '/' + 'nn_plot.png',\n",
    "#                          show_shapes=True, \n",
    "#                          show_dtype=False,\n",
    "#                          show_layer_names=True,\n",
    "#                          rankdir=\"TB\", \n",
    "#                          dpi=96,\n",
    "#                          show_layer_activations=True) \n",
    "\n",
    "test = Model(inputs=X, outputs=nn.call(X))\n",
    "print(dir(test))\n",
    "print(test.layers)\n",
    "#visualkeras.graph_view(test, to_file='../runs/single_ae_test/fig.png')"
   ]
  },
  {
   "cell_type": "code",
   "execution_count": null,
   "id": "e6c2227d",
   "metadata": {},
   "outputs": [],
   "source": [
    "import tensorflow as tf"
   ]
  },
  {
   "cell_type": "code",
   "execution_count": null,
   "id": "3229f853",
   "metadata": {},
   "outputs": [],
   "source": [
    "activation = tf.keras.layers.LeakyReLU()\n",
    "layer = tf.keras.layers.Dense(10, activation='leaky_relu')"
   ]
  },
  {
   "cell_type": "code",
   "execution_count": null,
   "id": "82388a8c",
   "metadata": {},
   "outputs": [],
   "source": [
    "a = [1,2,3,4]\n",
    "bias = tf.Variable(a)\n",
    "print(bias.numpy"
   ]
  },
  {
   "cell_type": "code",
   "execution_count": null,
   "id": "3057cf3b",
   "metadata": {},
   "outputs": [],
   "source": [
    "from sklearn.preprocessing import LabelBinarizer\n",
    "dataset_dataframe = pd.read_excel(dataset_dir, sheet_name=sheet_name, header=0, index_col=None, usecols=np.arange(2,41,1))\n",
    "#print(list(dataset_dataframe['pH']))\n",
    "data = list(dataset_dataframe['pH'])\n",
    "data = data[0:-5]\n",
    "print(data)\n",
    "le = LabelBinarizer()\n",
    "le.fit(data)\n",
    "enc_data = le.transform(data)"
   ]
  },
  {
   "cell_type": "code",
   "execution_count": null,
   "id": "d4a8e218",
   "metadata": {},
   "outputs": [],
   "source": [
    "print(enc_data)"
   ]
  },
  {
   "cell_type": "code",
   "execution_count": null,
   "id": "d8db11ae",
   "metadata": {},
   "outputs": [],
   "source": [
    "def sigmoid(x):\n",
    "    return 1/(1 + np.exp(-x))\n",
    "\n",
    "def relu(x):\n",
    "    return np.where(x>0,x,0)\n",
    "\n",
    "def elu(x):\n",
    "    return np.where(x>0,x,(np.exp(x)-1))\n",
    "\n",
    "def tanh(x):\n",
    "    return (np.exp(x) - np.exp(-x))/(np.exp(x) + np.exp(-x))\n",
    "    \n",
    "def der_sigmoid(x):\n",
    "    return np.exp(-x)/(1 + np.exp(-x))**2\n",
    "\n",
    "def der_tanh(x):\n",
    "    return 4/(np.exp(x) + np.exp(-x))**2\n",
    "\n",
    "def der_relu(x):\n",
    "    return np.where(x>0,1,0)\n",
    "\n",
    "def der_elu(x):\n",
    "    return np.where(x>0,1,np.exp(x))\n",
    "\n",
    "import matplotlib.pyplot as plt\n",
    "import numpy as np\n",
    "\n",
    "x = np.arange(-7.5,7.5,0.1)\n",
    "\n",
    "fig, ax = plt.subplots(1,2, figsize=(20,10))\n",
    "ax[0].plot(x, sigmoid(x), label='sigmoid')\n",
    "ax[0].plot(x, tanh(x), label='tanh')\n",
    "ax[0].plot(x, relu(x), label='relu')\n",
    "ax[0].plot(x, elu(x), label='elu')\n",
    "ax[0].legend()\n",
    "ax[0].grid()\n",
    "ax[1].plot(x, der_sigmoid(x), label='sigmoid')\n",
    "ax[1].plot(x, der_tanh(x), label='tanh')\n",
    "ax[1].plot(x, der_relu(x), label='relu')\n",
    "ax[1].plot(x, der_elu(x), label='elu')\n",
    "ax[1].legend()\n",
    "ax[1].grid()\n",
    "plt.show()\n"
   ]
  },
  {
   "cell_type": "code",
   "execution_count": null,
   "id": "d0e81107",
   "metadata": {},
   "outputs": [],
   "source": []
  }
 ],
 "metadata": {
  "kernelspec": {
   "display_name": "Python 3 (ipykernel)",
   "language": "python",
   "name": "python3"
  },
  "language_info": {
   "codemirror_mode": {
    "name": "ipython",
    "version": 3
   },
   "file_extension": ".py",
   "mimetype": "text/x-python",
   "name": "python",
   "nbconvert_exporter": "python",
   "pygments_lexer": "ipython3",
   "version": "3.9.13"
  }
 },
 "nbformat": 4,
 "nbformat_minor": 5
}
