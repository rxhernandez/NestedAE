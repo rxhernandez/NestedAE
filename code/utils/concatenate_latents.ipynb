{
 "cells": [
  {
   "cell_type": "code",
   "execution_count": 1,
   "id": "2299b395-64be-48a5-a0b6-4db98737af63",
   "metadata": {},
   "outputs": [],
   "source": [
    "import pandas as pd"
   ]
  },
  {
   "cell_type": "code",
   "execution_count": 4,
   "id": "07f73c88-de46-46a2-959b-e00b28c32ca2",
   "metadata": {},
   "outputs": [],
   "source": [
    "input_start_col_ae1 = 4\n",
    "input_end_col_ae1 = 12\n",
    "input_start_col_ae2 = 0\n",
    "input_end_col_ae2 = 3\n",
    "\n",
    "latent_size_ae1 = 1\n",
    "latent_size_ae2 = 5\n",
    "latent_size_single = 5\n",
    "\n",
    "# Data folder paths and file names\n",
    "data_folder = 'dataset_path_goes_here'\n",
    "model_folder = 'model_path_goes_here'\n",
    "latent_file = model_folder + 'model_name_goes_here/submodule_outputs/train/encoder_output.csv'\n",
    "dataset_file = data_folder + 'synthetic_data_FuncAddNoise_200.csv'\n",
    "new_dataset_file = model_folder + 'synthetic_data_FuncAddNoise_200.csv'\n",
    "latents1 = pd.read_csv(latent_file, header=None, skiprows=None)\n",
    "data = pd.read_csv(dataset_file)\n",
    "\n",
    "# Adding latents of AE1 to inputs of second nested AE\n",
    "for i in range(latent_size_ae1):\n",
    "    data['AE1_latent'+str(i)] = latents1[i]\n",
    "\n",
    "data.to_csv(new_dataset_file,index=False)"
   ]
  }
 ],
 "metadata": {
  "kernelspec": {
   "display_name": "Python 3 (ipykernel)",
   "language": "python",
   "name": "python3"
  },
  "language_info": {
   "codemirror_mode": {
    "name": "ipython",
    "version": 3
   },
   "file_extension": ".py",
   "mimetype": "text/x-python",
   "name": "python",
   "nbconvert_exporter": "python",
   "pygments_lexer": "ipython3",
   "version": "3.9.16"
  }
 },
 "nbformat": 4,
 "nbformat_minor": 5
}
